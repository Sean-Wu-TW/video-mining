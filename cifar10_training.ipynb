{
  "nbformat": 4,
  "nbformat_minor": 0,
  "metadata": {
    "colab": {
      "name": "Video Mining",
      "provenance": [],
      "collapsed_sections": [],
      "include_colab_link": true
    },
    "kernelspec": {
      "name": "python3",
      "display_name": "Python 3"
    },
    "accelerator": "GPU"
  },
  "cells": [
    {
      "cell_type": "markdown",
      "metadata": {
        "id": "view-in-github",
        "colab_type": "text"
      },
      "source": [
        "<a href=\"https://colab.research.google.com/github/tomek-l/video-mining/blob/master/cifar10_training.ipynb\" target=\"_parent\"><img src=\"https://colab.research.google.com/assets/colab-badge.svg\" alt=\"Open In Colab\"/></a>"
      ]
    },
    {
      "cell_type": "code",
      "metadata": {
        "id": "8dPVSb2ZOhx8",
        "colab_type": "code",
        "colab": {}
      },
      "source": [
        "import torch\n",
        "import torchvision\n",
        "from torchvision import models\n",
        "from torchvision import transforms"
      ],
      "execution_count": 0,
      "outputs": []
    },
    {
      "cell_type": "code",
      "metadata": {
        "id": "q-jdH6Z8hJn5",
        "colab_type": "code",
        "colab": {}
      },
      "source": [
        "import numpy as np\n",
        "from keras.datasets import cifar10\n",
        "(X_train, y_train), (X_test, y_test) = cifar10.load_data()\n",
        "\n",
        "# Move channel axes - go from (N,H,W,C) convention to (N,C,H,W)\n",
        "X_train = np.moveaxis(X_train, 3, 1)\n",
        "X_test = np.moveaxis(X_test, 3, 1)\n",
        "\n",
        "# Convert Feature Vectors to FP32\n",
        "X_train = X_train.astype(np.float32)\n",
        "X_test = X_test.astype(np.float32)\n",
        "\n",
        "y_train = y_train.astype(np.int)\n",
        "y_test = y_test.astype(np.int)\n",
        "\n",
        "y_train = np.squeeze(y_train)\n",
        "y_test = np.squeeze(y_test)"
      ],
      "execution_count": 0,
      "outputs": []
    },
    {
      "cell_type": "code",
      "metadata": {
        "id": "aaku1svfvQC-",
        "colab_type": "code",
        "colab": {}
      },
      "source": [
        "from torch.utils.data.dataset import Dataset\n",
        " \n",
        "class CIFAR10_custom_ds(Dataset):\n",
        "    def __init__(self, feature_vec, labels, device):\n",
        "        self._device = device\n",
        "        self.x = feature_vec\n",
        "        self.y = labels \n",
        "\n",
        "        # I only do eager conversion to CUDA memory since CIFAR10 is relatively small\n",
        "        # (will only take some ~200MB of memory)\n",
        "        self.x = torch.tensor(self.x).to(self._device)\n",
        "        self.y = torch.tensor(self.y).to(self._device)\n",
        "         \n",
        "    def __getitem__(self, index):\n",
        "        return (self.x[index], self.y[index])\n",
        " \n",
        "    def __len__(self):\n",
        "        return len(self.x)"
      ],
      "execution_count": 0,
      "outputs": []
    },
    {
      "cell_type": "code",
      "metadata": {
        "id": "rtzZDhjlR0T0",
        "colab_type": "code",
        "colab": {}
      },
      "source": [
        "# pytorch way to use CIFAR-10\n",
        "# (with DataLoader class)\n",
        "\n",
        "# transform = transforms.Compose(\n",
        "#     [transforms.ToTensor(),\n",
        "#      transforms.Normalize((0.5, 0.5, 0.5), (0.5, 0.5, 0.5))])\n",
        "\n",
        "# trainset = torchvision.datasets.CIFAR10(root='./data', train=True,\n",
        "#                                         download=True, transform=transform)\n",
        "# trainloader = torch.utils.data.DataLoader(trainset, batch_size=4,\n",
        "#                                           shuffle=True, num_workers=2)\n",
        "\n",
        "# testset = torchvision.datasets.CIFAR10(root='./data', train=False,\n",
        "#                                        download=True, transform=transform)\n",
        "# testloader = torch.utils.data.DataLoader(testset, batch_size=4,\n",
        "#                                          shuffle=False, num_workers=2)\n",
        "\n",
        "# classes = ('plane', 'car', 'bird', 'cat',\n",
        "#            'deer', 'dog', 'frog', 'horse', 'ship', 'truck')"
      ],
      "execution_count": 0,
      "outputs": []
    },
    {
      "cell_type": "code",
      "metadata": {
        "id": "MKqKBwaLSDFs",
        "colab_type": "code",
        "colab": {}
      },
      "source": [
        "import torch.nn as nn\n",
        "\n",
        "# Let's define a simple NN based of resnet18\n",
        "class Net(nn.Module):\n",
        "    def __init__(self, n_classes):\n",
        "        super(Net, self).__init__()\n",
        "        self.backbone = models.resnet18(pretrained=False)\n",
        "        self.backbone.fc = torch.nn.Linear(512, n_classes)\n",
        "        self.sigmoid = torch.nn.Sigmoid()\n",
        "\n",
        "    def forward(self, x):\n",
        "        x = self.backbone(x)\n",
        "        x = self.sigmoid(x)\n",
        "        return x\n"
      ],
      "execution_count": 0,
      "outputs": []
    },
    {
      "cell_type": "code",
      "metadata": {
        "id": "lL6i4Vzu-YUW",
        "colab_type": "code",
        "colab": {}
      },
      "source": [
        "x,y = trainset[0]"
      ],
      "execution_count": 0,
      "outputs": []
    },
    {
      "cell_type": "code",
      "metadata": {
        "id": "DX-7_NAU0KYX",
        "colab_type": "code",
        "colab": {}
      },
      "source": [
        "from torch.utils.data import DataLoader\n",
        "\n",
        "# import torch.multiprocessing as mp\n",
        "# try:\n",
        "#     mp.set_start_method(\"spawn\")\n",
        "# except RuntimeError as e:\n",
        "#     print(e)\n",
        "#     pass\n",
        "\n",
        "GPU = torch.device(\"cuda:0\" if torch.cuda.is_available() else \"cpu\")\n",
        "trainset = CIFAR10_custom_ds(X_train, y_train, GPU)\n",
        "assert trainset[0:4] \n",
        "trainloader = DataLoader(trainset, batch_size=64, shuffle=True, num_workers=0)"
      ],
      "execution_count": 0,
      "outputs": []
    },
    {
      "cell_type": "code",
      "metadata": {
        "id": "jb3HR5ez-_6C",
        "colab_type": "code",
        "colab": {
          "base_uri": "https://localhost:8080/",
          "height": 34
        },
        "outputId": "afdf9191-239f-4d92-b2f0-77048c57468a"
      },
      "source": [
        "labels.shape"
      ],
      "execution_count": 84,
      "outputs": [
        {
          "output_type": "execute_result",
          "data": {
            "text/plain": [
              "torch.Size([16])"
            ]
          },
          "metadata": {
            "tags": []
          },
          "execution_count": 84
        }
      ]
    },
    {
      "cell_type": "code",
      "metadata": {
        "id": "TZi1-GvGTrL6",
        "colab_type": "code",
        "colab": {
          "base_uri": "https://localhost:8080/",
          "height": 1000
        },
        "outputId": "77c4f1eb-aee9-44f8-8e1a-955c4b55f447"
      },
      "source": [
        "from torch import optim \n",
        "\n",
        "net = Net(10).to(GPU)\n",
        "\n",
        "criterion = nn.CrossEntropyLoss()\n",
        "optimizer = optim.SGD(net.parameters(), lr=0.001, momentum=0.9)\n",
        "print_every = 100\n",
        "for epoch in range(10):  # loop over the dataset multiple times\n",
        "\n",
        "    running_loss = 0.0\n",
        "    for i, data in enumerate(trainloader, 0):\n",
        "        # get the inputs\n",
        "        inputs, labels = data\n",
        "\n",
        "        # zero the parameter gradients\n",
        "        optimizer.zero_grad()\n",
        "\n",
        "        # forward + backward + optimize\n",
        "        outputs = net(inputs)\n",
        "        loss = criterion(outputs, labels)\n",
        "        loss.backward()\n",
        "        optimizer.step()\n",
        "\n",
        "        # print statistics\n",
        "        running_loss += loss.item()\n",
        "        if i % print_every == 1:    # print every 100 mini-batches\n",
        "            print(f'epoch {epoch+1} batch {i+1} loss: {(running_loss / print_every):.4f}')\n",
        "            running_loss = 0.0\n",
        "\n",
        "print('Finished Training')"
      ],
      "execution_count": 92,
      "outputs": [
        {
          "output_type": "stream",
          "text": [
            "epoch 1 iter 1 loss: 0.0233\n",
            "epoch 1 iter 101 loss: 2.2289\n",
            "epoch 1 iter 201 loss: 2.1024\n",
            "epoch 1 iter 301 loss: 2.0453\n",
            "epoch 1 iter 401 loss: 2.0010\n",
            "epoch 1 iter 501 loss: 1.9711\n",
            "epoch 1 iter 601 loss: 1.9552\n",
            "epoch 1 iter 701 loss: 1.9431\n",
            "epoch 2 iter 1 loss: 0.0188\n",
            "epoch 2 iter 101 loss: 1.9089\n",
            "epoch 2 iter 201 loss: 1.9049\n",
            "epoch 2 iter 301 loss: 1.8962\n",
            "epoch 2 iter 401 loss: 1.8930\n",
            "epoch 2 iter 501 loss: 1.8845\n",
            "epoch 2 iter 601 loss: 1.8800\n",
            "epoch 2 iter 701 loss: 1.8789\n",
            "epoch 3 iter 1 loss: 0.0188\n",
            "epoch 3 iter 101 loss: 1.8494\n",
            "epoch 3 iter 201 loss: 1.8501\n",
            "epoch 3 iter 301 loss: 1.8524\n",
            "epoch 3 iter 401 loss: 1.8436\n",
            "epoch 3 iter 501 loss: 1.8422\n",
            "epoch 3 iter 601 loss: 1.8365\n",
            "epoch 3 iter 701 loss: 1.8385\n",
            "epoch 4 iter 1 loss: 0.0183\n",
            "epoch 4 iter 101 loss: 1.8253\n",
            "epoch 4 iter 201 loss: 1.8155\n",
            "epoch 4 iter 301 loss: 1.8165\n",
            "epoch 4 iter 401 loss: 1.8071\n",
            "epoch 4 iter 501 loss: 1.8108\n",
            "epoch 4 iter 601 loss: 1.8075\n",
            "epoch 4 iter 701 loss: 1.8075\n",
            "epoch 5 iter 1 loss: 0.0171\n",
            "epoch 5 iter 101 loss: 1.7926\n",
            "epoch 5 iter 201 loss: 1.7930\n",
            "epoch 5 iter 301 loss: 1.7846\n",
            "epoch 5 iter 401 loss: 1.7838\n",
            "epoch 5 iter 501 loss: 1.7908\n",
            "epoch 5 iter 601 loss: 1.7814\n",
            "epoch 5 iter 701 loss: 1.7859\n",
            "epoch 6 iter 1 loss: 0.0171\n",
            "epoch 6 iter 101 loss: 1.7660\n",
            "epoch 6 iter 201 loss: 1.7583\n",
            "epoch 6 iter 301 loss: 1.7707\n",
            "epoch 6 iter 401 loss: 1.7625\n",
            "epoch 6 iter 501 loss: 1.7621\n",
            "epoch 6 iter 601 loss: 1.7643\n",
            "epoch 6 iter 701 loss: 1.7543\n",
            "epoch 7 iter 1 loss: 0.0178\n",
            "epoch 7 iter 101 loss: 1.7417\n",
            "epoch 7 iter 201 loss: 1.7391\n",
            "epoch 7 iter 301 loss: 1.7405\n",
            "epoch 7 iter 401 loss: 1.7368\n",
            "epoch 7 iter 501 loss: 1.7444\n",
            "epoch 7 iter 601 loss: 1.7359\n",
            "epoch 7 iter 701 loss: 1.7387\n",
            "epoch 8 iter 1 loss: 0.0169\n",
            "epoch 8 iter 101 loss: 1.7266\n",
            "epoch 8 iter 201 loss: 1.7195\n",
            "epoch 8 iter 301 loss: 1.7217\n",
            "epoch 8 iter 401 loss: 1.7185\n",
            "epoch 8 iter 501 loss: 1.7126\n",
            "epoch 8 iter 601 loss: 1.7240\n",
            "epoch 8 iter 701 loss: 1.7156\n",
            "epoch 9 iter 1 loss: 0.0170\n",
            "epoch 9 iter 101 loss: 1.7007\n",
            "epoch 9 iter 201 loss: 1.7016\n",
            "epoch 9 iter 301 loss: 1.6998\n",
            "epoch 9 iter 401 loss: 1.6992\n",
            "epoch 9 iter 501 loss: 1.7028\n",
            "epoch 9 iter 601 loss: 1.7090\n",
            "epoch 9 iter 701 loss: 1.6981\n",
            "epoch 10 iter 1 loss: 0.0168\n",
            "epoch 10 iter 101 loss: 1.6786\n",
            "epoch 10 iter 201 loss: 1.6842\n",
            "epoch 10 iter 301 loss: 1.6866\n",
            "epoch 10 iter 401 loss: 1.6882\n",
            "epoch 10 iter 501 loss: 1.6861\n",
            "epoch 10 iter 601 loss: 1.6819\n",
            "epoch 10 iter 701 loss: 1.6851\n",
            "Finished Training\n"
          ],
          "name": "stdout"
        }
      ]
    },
    {
      "cell_type": "code",
      "metadata": {
        "id": "KNkLtu9xd9_A",
        "colab_type": "code",
        "colab": {
          "base_uri": "https://localhost:8080/",
          "height": 34
        },
        "outputId": "2454a7db-1fb8-4b26-cb4b-032b209fafd8"
      },
      "source": [
        "testset = CIFAR10_custom_ds(X_test, y_test, GPU)\n",
        "testloader = DataLoader(testset, batch_size=64, shuffle=True, num_workers=0)\n",
        "\n",
        "correct = 0\n",
        "total = 0\n",
        "with torch.no_grad():\n",
        "    for data in testloader:\n",
        "        images, labels = data\n",
        "        outputs = net(images)\n",
        "        _, predicted = torch.max(outputs.data, 1)\n",
        "        total += labels.size(0)\n",
        "        correct += (predicted == labels).sum().item()\n",
        "\n",
        "print(f'Accuracy of the network on the  {len(y_test)} test images is {100 * correct / total} %')\n"
      ],
      "execution_count": 93,
      "outputs": [
        {
          "output_type": "stream",
          "text": [
            "Accuracy of the network on the  10000 test images is 60.81 %\n"
          ],
          "name": "stdout"
        }
      ]
    }
  ]
}